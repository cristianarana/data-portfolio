{
 "cells": [
  {
   "metadata": {},
   "cell_type": "markdown",
   "source": "## 01. Data Cleaning",
   "id": "c5dec71ede6e805"
  },
  {
   "cell_type": "code",
   "id": "initial_id",
   "metadata": {
    "collapsed": true,
    "ExecuteTime": {
     "end_time": "2025-10-17T15:54:16.135659Z",
     "start_time": "2025-10-17T15:54:16.132416Z"
    }
   },
   "source": [
    "import pandas as pd\n",
    "import os\n"
   ],
   "outputs": [],
   "execution_count": 34
  },
  {
   "metadata": {},
   "cell_type": "markdown",
   "source": "#### Exploramos el archivo excel y el nombre de las hojas para separar cada una en df distinto",
   "id": "17d2f396388647f4"
  },
  {
   "metadata": {
    "ExecuteTime": {
     "end_time": "2025-10-17T15:32:32.712713Z",
     "start_time": "2025-10-17T15:32:32.694469Z"
    }
   },
   "cell_type": "code",
   "source": [
    "file = '../data/retail_sales_dataset.xlsx'\n",
    "excel_file = pd.ExcelFile(file)\n",
    "print(\"Hojas disponibles:\")\n",
    "print(excel_file.sheet_names)"
   ],
   "id": "c30c1b99b8597307",
   "outputs": [
    {
     "name": "stdout",
     "output_type": "stream",
     "text": [
      "Hojas disponibles:\n",
      "['Customers', 'Products', 'Stores', 'Transactions']\n"
     ]
    }
   ],
   "execution_count": 10
  },
  {
   "metadata": {
    "ExecuteTime": {
     "end_time": "2025-10-17T15:34:34.503196Z",
     "start_time": "2025-10-17T15:34:33.594060Z"
    }
   },
   "cell_type": "code",
   "source": [
    "all_sheets = pd.read_excel(file, sheet_name=None)\n",
    "\n",
    "df_customers  = all_sheets['Customers']\n",
    "df_products   = all_sheets['Products']\n",
    "df_stores   = all_sheets['Stores']\n",
    "df_transactions = all_sheets['Transactions']\n"
   ],
   "id": "87c99abd81ba5fc",
   "outputs": [],
   "execution_count": 12
  },
  {
   "metadata": {},
   "cell_type": "markdown",
   "source": "## 02 Vamos a analizar cada hoja y hacer limpieza previo a almacenarlo en csv separados para futuros análisis.",
   "id": "5c6943056c245f2b"
  },
  {
   "metadata": {
    "ExecuteTime": {
     "end_time": "2025-10-17T15:47:17.472283Z",
     "start_time": "2025-10-17T15:47:17.451930Z"
    }
   },
   "cell_type": "code",
   "source": [
    "print (\"Analisis de customer sheet\")\n",
    "df_customers.info()\n",
    "print(f\"\\n{'='*50}\")\n",
    "\n",
    "print(\"Primeras filas\")\n",
    "df_customers.head()\n"
   ],
   "id": "e18ba32cb84a597d",
   "outputs": [
    {
     "name": "stdout",
     "output_type": "stream",
     "text": [
      "Analisis de customer sheet\n",
      "<class 'pandas.core.frame.DataFrame'>\n",
      "RangeIndex: 200 entries, 0 to 199\n",
      "Data columns (total 7 columns):\n",
      " #   Column      Non-Null Count  Dtype         \n",
      "---  ------      --------------  -----         \n",
      " 0   CustomerID  200 non-null    object        \n",
      " 1   FirstName   200 non-null    object        \n",
      " 2   LastName    200 non-null    object        \n",
      " 3   Gender      200 non-null    object        \n",
      " 4   BirthDate   200 non-null    datetime64[ns]\n",
      " 5   City        200 non-null    object        \n",
      " 6   JoinDate    200 non-null    datetime64[ns]\n",
      "dtypes: datetime64[ns](2), object(5)\n",
      "memory usage: 11.1+ KB\n",
      "\n",
      "==================================================\n",
      "Primeras filas\n"
     ]
    },
    {
     "data": {
      "text/plain": [
       "  CustomerID FirstName LastName Gender  BirthDate               City  \\\n",
       "0       C001   Michael    Davis      M 1996-09-11        Osborneport   \n",
       "1       C002   Michael   Miller      M 1959-08-18  New Gabrielleport   \n",
       "2       C003     Carol     Hays      F 2005-04-19         Port Allen   \n",
       "3       C004    Joseph     Ward      M 1992-06-16  East Edgarborough   \n",
       "4       C005     Jamie  Salinas      M 1992-06-18      Port Kimberly   \n",
       "\n",
       "    JoinDate  \n",
       "0 2022-09-25  \n",
       "1 2020-11-03  \n",
       "2 2024-02-12  \n",
       "3 2024-09-09  \n",
       "4 2022-02-24  "
      ],
      "text/html": [
       "<div>\n",
       "<style scoped>\n",
       "    .dataframe tbody tr th:only-of-type {\n",
       "        vertical-align: middle;\n",
       "    }\n",
       "\n",
       "    .dataframe tbody tr th {\n",
       "        vertical-align: top;\n",
       "    }\n",
       "\n",
       "    .dataframe thead th {\n",
       "        text-align: right;\n",
       "    }\n",
       "</style>\n",
       "<table border=\"1\" class=\"dataframe\">\n",
       "  <thead>\n",
       "    <tr style=\"text-align: right;\">\n",
       "      <th></th>\n",
       "      <th>CustomerID</th>\n",
       "      <th>FirstName</th>\n",
       "      <th>LastName</th>\n",
       "      <th>Gender</th>\n",
       "      <th>BirthDate</th>\n",
       "      <th>City</th>\n",
       "      <th>JoinDate</th>\n",
       "    </tr>\n",
       "  </thead>\n",
       "  <tbody>\n",
       "    <tr>\n",
       "      <th>0</th>\n",
       "      <td>C001</td>\n",
       "      <td>Michael</td>\n",
       "      <td>Davis</td>\n",
       "      <td>M</td>\n",
       "      <td>1996-09-11</td>\n",
       "      <td>Osborneport</td>\n",
       "      <td>2022-09-25</td>\n",
       "    </tr>\n",
       "    <tr>\n",
       "      <th>1</th>\n",
       "      <td>C002</td>\n",
       "      <td>Michael</td>\n",
       "      <td>Miller</td>\n",
       "      <td>M</td>\n",
       "      <td>1959-08-18</td>\n",
       "      <td>New Gabrielleport</td>\n",
       "      <td>2020-11-03</td>\n",
       "    </tr>\n",
       "    <tr>\n",
       "      <th>2</th>\n",
       "      <td>C003</td>\n",
       "      <td>Carol</td>\n",
       "      <td>Hays</td>\n",
       "      <td>F</td>\n",
       "      <td>2005-04-19</td>\n",
       "      <td>Port Allen</td>\n",
       "      <td>2024-02-12</td>\n",
       "    </tr>\n",
       "    <tr>\n",
       "      <th>3</th>\n",
       "      <td>C004</td>\n",
       "      <td>Joseph</td>\n",
       "      <td>Ward</td>\n",
       "      <td>M</td>\n",
       "      <td>1992-06-16</td>\n",
       "      <td>East Edgarborough</td>\n",
       "      <td>2024-09-09</td>\n",
       "    </tr>\n",
       "    <tr>\n",
       "      <th>4</th>\n",
       "      <td>C005</td>\n",
       "      <td>Jamie</td>\n",
       "      <td>Salinas</td>\n",
       "      <td>M</td>\n",
       "      <td>1992-06-18</td>\n",
       "      <td>Port Kimberly</td>\n",
       "      <td>2022-02-24</td>\n",
       "    </tr>\n",
       "  </tbody>\n",
       "</table>\n",
       "</div>"
      ]
     },
     "execution_count": 25,
     "metadata": {},
     "output_type": "execute_result"
    }
   ],
   "execution_count": 25
  },
  {
   "metadata": {
    "ExecuteTime": {
     "end_time": "2025-10-17T15:47:39.209286Z",
     "start_time": "2025-10-17T15:47:39.202443Z"
    }
   },
   "cell_type": "code",
   "source": [
    "print(\"Valores nulos\")\n",
    "df_customers.isnull().sum()"
   ],
   "id": "d3dd942b99ca08cf",
   "outputs": [
    {
     "name": "stdout",
     "output_type": "stream",
     "text": [
      "Valores nulos\n"
     ]
    },
    {
     "data": {
      "text/plain": [
       "CustomerID    0\n",
       "FirstName     0\n",
       "LastName      0\n",
       "Gender        0\n",
       "BirthDate     0\n",
       "City          0\n",
       "JoinDate      0\n",
       "dtype: int64"
      ]
     },
     "execution_count": 26,
     "metadata": {},
     "output_type": "execute_result"
    }
   ],
   "execution_count": 26
  },
  {
   "metadata": {
    "ExecuteTime": {
     "end_time": "2025-10-17T15:48:27.958419Z",
     "start_time": "2025-10-17T15:48:27.946350Z"
    }
   },
   "cell_type": "code",
   "source": [
    "print (\"Analisis de products sheet\")\n",
    "df_products.info()\n",
    "print(f\"\\n{'='*50}\")\n",
    "\n",
    "print(\"Primeras filas\")\n",
    "df_products.head()"
   ],
   "id": "9a874a7e9bda7a4a",
   "outputs": [
    {
     "name": "stdout",
     "output_type": "stream",
     "text": [
      "Analisis de products sheet\n",
      "<class 'pandas.core.frame.DataFrame'>\n",
      "RangeIndex: 50 entries, 0 to 49\n",
      "Data columns (total 6 columns):\n",
      " #   Column       Non-Null Count  Dtype  \n",
      "---  ------       --------------  -----  \n",
      " 0   ProductID    50 non-null     object \n",
      " 1   ProductName  50 non-null     object \n",
      " 2   Category     50 non-null     object \n",
      " 3   SubCategory  50 non-null     object \n",
      " 4   UnitPrice    50 non-null     float64\n",
      " 5   CostPrice    50 non-null     float64\n",
      "dtypes: float64(2), object(4)\n",
      "memory usage: 2.5+ KB\n",
      "\n",
      "==================================================\n",
      "Primeras filas\n"
     ]
    },
    {
     "data": {
      "text/plain": [
       "  ProductID          ProductName     Category  SubCategory  UnitPrice  \\\n",
       "0      P001          Like Camera  Electronics       Camera    1673.69   \n",
       "1      P002  Audience Television  Electronics   Television     818.76   \n",
       "2      P003        Here Footwear      Fashion     Footwear     337.63   \n",
       "3      P004     Four Accessories      Fashion  Accessories    1853.77   \n",
       "4      P005       Knowledge Bags      Fashion         Bags    1396.22   \n",
       "\n",
       "   CostPrice  \n",
       "0    1323.38  \n",
       "1     527.62  \n",
       "2     169.03  \n",
       "3    1363.52  \n",
       "4    1004.09  "
      ],
      "text/html": [
       "<div>\n",
       "<style scoped>\n",
       "    .dataframe tbody tr th:only-of-type {\n",
       "        vertical-align: middle;\n",
       "    }\n",
       "\n",
       "    .dataframe tbody tr th {\n",
       "        vertical-align: top;\n",
       "    }\n",
       "\n",
       "    .dataframe thead th {\n",
       "        text-align: right;\n",
       "    }\n",
       "</style>\n",
       "<table border=\"1\" class=\"dataframe\">\n",
       "  <thead>\n",
       "    <tr style=\"text-align: right;\">\n",
       "      <th></th>\n",
       "      <th>ProductID</th>\n",
       "      <th>ProductName</th>\n",
       "      <th>Category</th>\n",
       "      <th>SubCategory</th>\n",
       "      <th>UnitPrice</th>\n",
       "      <th>CostPrice</th>\n",
       "    </tr>\n",
       "  </thead>\n",
       "  <tbody>\n",
       "    <tr>\n",
       "      <th>0</th>\n",
       "      <td>P001</td>\n",
       "      <td>Like Camera</td>\n",
       "      <td>Electronics</td>\n",
       "      <td>Camera</td>\n",
       "      <td>1673.69</td>\n",
       "      <td>1323.38</td>\n",
       "    </tr>\n",
       "    <tr>\n",
       "      <th>1</th>\n",
       "      <td>P002</td>\n",
       "      <td>Audience Television</td>\n",
       "      <td>Electronics</td>\n",
       "      <td>Television</td>\n",
       "      <td>818.76</td>\n",
       "      <td>527.62</td>\n",
       "    </tr>\n",
       "    <tr>\n",
       "      <th>2</th>\n",
       "      <td>P003</td>\n",
       "      <td>Here Footwear</td>\n",
       "      <td>Fashion</td>\n",
       "      <td>Footwear</td>\n",
       "      <td>337.63</td>\n",
       "      <td>169.03</td>\n",
       "    </tr>\n",
       "    <tr>\n",
       "      <th>3</th>\n",
       "      <td>P004</td>\n",
       "      <td>Four Accessories</td>\n",
       "      <td>Fashion</td>\n",
       "      <td>Accessories</td>\n",
       "      <td>1853.77</td>\n",
       "      <td>1363.52</td>\n",
       "    </tr>\n",
       "    <tr>\n",
       "      <th>4</th>\n",
       "      <td>P005</td>\n",
       "      <td>Knowledge Bags</td>\n",
       "      <td>Fashion</td>\n",
       "      <td>Bags</td>\n",
       "      <td>1396.22</td>\n",
       "      <td>1004.09</td>\n",
       "    </tr>\n",
       "  </tbody>\n",
       "</table>\n",
       "</div>"
      ]
     },
     "execution_count": 27,
     "metadata": {},
     "output_type": "execute_result"
    }
   ],
   "execution_count": 27
  },
  {
   "metadata": {
    "ExecuteTime": {
     "end_time": "2025-10-17T15:50:25.482971Z",
     "start_time": "2025-10-17T15:50:25.477232Z"
    }
   },
   "cell_type": "code",
   "source": [
    "print(\"Valores nulos\")\n",
    "df_products.isnull().sum()"
   ],
   "id": "c6a3ba220392fd8b",
   "outputs": [
    {
     "name": "stdout",
     "output_type": "stream",
     "text": [
      "Valores nulos\n"
     ]
    },
    {
     "data": {
      "text/plain": [
       "ProductID      0\n",
       "ProductName    0\n",
       "Category       0\n",
       "SubCategory    0\n",
       "UnitPrice      0\n",
       "CostPrice      0\n",
       "dtype: int64"
      ]
     },
     "execution_count": 33,
     "metadata": {},
     "output_type": "execute_result"
    }
   ],
   "execution_count": 33
  },
  {
   "metadata": {
    "ExecuteTime": {
     "end_time": "2025-10-17T15:49:05.642097Z",
     "start_time": "2025-10-17T15:49:05.631726Z"
    }
   },
   "cell_type": "code",
   "source": [
    "print (\"Analisis de stores sheet\")\n",
    "df_stores.info()\n",
    "print(f\"\\n{'='*50}\")\n",
    "\n",
    "print(\"Primeras filas\")\n",
    "df_stores.head()"
   ],
   "id": "a9d3f272764a3069",
   "outputs": [
    {
     "name": "stdout",
     "output_type": "stream",
     "text": [
      "Analisis de stores sheet\n",
      "<class 'pandas.core.frame.DataFrame'>\n",
      "RangeIndex: 5 entries, 0 to 4\n",
      "Data columns (total 4 columns):\n",
      " #   Column     Non-Null Count  Dtype \n",
      "---  ------     --------------  ----- \n",
      " 0   StoreID    5 non-null      object\n",
      " 1   StoreName  5 non-null      object\n",
      " 2   City       5 non-null      object\n",
      " 3   Region     5 non-null      object\n",
      "dtypes: object(4)\n",
      "memory usage: 292.0+ bytes\n",
      "\n",
      "==================================================\n",
      "Primeras filas\n"
     ]
    },
    {
     "data": {
      "text/plain": [
       "  StoreID                StoreName            City Region\n",
       "0    S001  MegaMart Jimenezborough  Jimenezborough  South\n",
       "1    S002       MegaMart Peckmouth       Peckmouth   East\n",
       "2    S003     MegaMart New Michele     New Michele   West\n",
       "3    S004     MegaMart Brianahaven     Brianahaven  North\n",
       "4    S005       MegaMart Johnmouth       Johnmouth   East"
      ],
      "text/html": [
       "<div>\n",
       "<style scoped>\n",
       "    .dataframe tbody tr th:only-of-type {\n",
       "        vertical-align: middle;\n",
       "    }\n",
       "\n",
       "    .dataframe tbody tr th {\n",
       "        vertical-align: top;\n",
       "    }\n",
       "\n",
       "    .dataframe thead th {\n",
       "        text-align: right;\n",
       "    }\n",
       "</style>\n",
       "<table border=\"1\" class=\"dataframe\">\n",
       "  <thead>\n",
       "    <tr style=\"text-align: right;\">\n",
       "      <th></th>\n",
       "      <th>StoreID</th>\n",
       "      <th>StoreName</th>\n",
       "      <th>City</th>\n",
       "      <th>Region</th>\n",
       "    </tr>\n",
       "  </thead>\n",
       "  <tbody>\n",
       "    <tr>\n",
       "      <th>0</th>\n",
       "      <td>S001</td>\n",
       "      <td>MegaMart Jimenezborough</td>\n",
       "      <td>Jimenezborough</td>\n",
       "      <td>South</td>\n",
       "    </tr>\n",
       "    <tr>\n",
       "      <th>1</th>\n",
       "      <td>S002</td>\n",
       "      <td>MegaMart Peckmouth</td>\n",
       "      <td>Peckmouth</td>\n",
       "      <td>East</td>\n",
       "    </tr>\n",
       "    <tr>\n",
       "      <th>2</th>\n",
       "      <td>S003</td>\n",
       "      <td>MegaMart New Michele</td>\n",
       "      <td>New Michele</td>\n",
       "      <td>West</td>\n",
       "    </tr>\n",
       "    <tr>\n",
       "      <th>3</th>\n",
       "      <td>S004</td>\n",
       "      <td>MegaMart Brianahaven</td>\n",
       "      <td>Brianahaven</td>\n",
       "      <td>North</td>\n",
       "    </tr>\n",
       "    <tr>\n",
       "      <th>4</th>\n",
       "      <td>S005</td>\n",
       "      <td>MegaMart Johnmouth</td>\n",
       "      <td>Johnmouth</td>\n",
       "      <td>East</td>\n",
       "    </tr>\n",
       "  </tbody>\n",
       "</table>\n",
       "</div>"
      ]
     },
     "execution_count": 29,
     "metadata": {},
     "output_type": "execute_result"
    }
   ],
   "execution_count": 29
  },
  {
   "metadata": {
    "ExecuteTime": {
     "end_time": "2025-10-17T15:49:32.024388Z",
     "start_time": "2025-10-17T15:49:32.018713Z"
    }
   },
   "cell_type": "code",
   "source": [
    "print(\"Valores nullos\")\n",
    "df_stores.isnull().sum()"
   ],
   "id": "c77a16981db615e1",
   "outputs": [
    {
     "name": "stdout",
     "output_type": "stream",
     "text": [
      "Valores nullos\n"
     ]
    },
    {
     "data": {
      "text/plain": [
       "StoreID      0\n",
       "StoreName    0\n",
       "City         0\n",
       "Region       0\n",
       "dtype: int64"
      ]
     },
     "execution_count": 30,
     "metadata": {},
     "output_type": "execute_result"
    }
   ],
   "execution_count": 30
  },
  {
   "metadata": {
    "ExecuteTime": {
     "end_time": "2025-10-17T15:49:54.774335Z",
     "start_time": "2025-10-17T15:49:54.760619Z"
    }
   },
   "cell_type": "code",
   "source": [
    "print (\"Analisis de transactions sheet\")\n",
    "df_transactions.info()\n",
    "print(f\"\\n{'='*50}\")\n",
    "\n",
    "print(\"Primeras filas\")\n",
    "df_transactions.head()"
   ],
   "id": "43f2d399e71c3b9c",
   "outputs": [
    {
     "name": "stdout",
     "output_type": "stream",
     "text": [
      "Analisis de transactions sheet\n",
      "<class 'pandas.core.frame.DataFrame'>\n",
      "RangeIndex: 5000 entries, 0 to 4999\n",
      "Data columns (total 8 columns):\n",
      " #   Column         Non-Null Count  Dtype         \n",
      "---  ------         --------------  -----         \n",
      " 0   TransactionID  5000 non-null   object        \n",
      " 1   Date           5000 non-null   datetime64[ns]\n",
      " 2   CustomerID     5000 non-null   object        \n",
      " 3   ProductID      5000 non-null   object        \n",
      " 4   StoreID        5000 non-null   object        \n",
      " 5   Quantity       5000 non-null   int64         \n",
      " 6   Discount       5000 non-null   float64       \n",
      " 7   PaymentMethod  5000 non-null   object        \n",
      "dtypes: datetime64[ns](1), float64(1), int64(1), object(5)\n",
      "memory usage: 312.6+ KB\n",
      "\n",
      "==================================================\n",
      "Primeras filas\n"
     ]
    },
    {
     "data": {
      "text/plain": [
       "  TransactionID       Date CustomerID ProductID StoreID  Quantity  Discount  \\\n",
       "0        T00001 2024-06-18       C160      P014    S003         1      0.10   \n",
       "1        T00002 2023-11-02       C171      P030    S004         3      0.15   \n",
       "2        T00003 2024-03-28       C142      P002    S002         2      0.15   \n",
       "3        T00004 2024-06-15       C174      P050    S002         5      0.10   \n",
       "4        T00005 2024-08-29       C141      P036    S001         3      0.10   \n",
       "\n",
       "   PaymentMethod  \n",
       "0  Bank Transfer  \n",
       "1  Bank Transfer  \n",
       "2   Mobile Money  \n",
       "3   Mobile Money  \n",
       "4    Credit Card  "
      ],
      "text/html": [
       "<div>\n",
       "<style scoped>\n",
       "    .dataframe tbody tr th:only-of-type {\n",
       "        vertical-align: middle;\n",
       "    }\n",
       "\n",
       "    .dataframe tbody tr th {\n",
       "        vertical-align: top;\n",
       "    }\n",
       "\n",
       "    .dataframe thead th {\n",
       "        text-align: right;\n",
       "    }\n",
       "</style>\n",
       "<table border=\"1\" class=\"dataframe\">\n",
       "  <thead>\n",
       "    <tr style=\"text-align: right;\">\n",
       "      <th></th>\n",
       "      <th>TransactionID</th>\n",
       "      <th>Date</th>\n",
       "      <th>CustomerID</th>\n",
       "      <th>ProductID</th>\n",
       "      <th>StoreID</th>\n",
       "      <th>Quantity</th>\n",
       "      <th>Discount</th>\n",
       "      <th>PaymentMethod</th>\n",
       "    </tr>\n",
       "  </thead>\n",
       "  <tbody>\n",
       "    <tr>\n",
       "      <th>0</th>\n",
       "      <td>T00001</td>\n",
       "      <td>2024-06-18</td>\n",
       "      <td>C160</td>\n",
       "      <td>P014</td>\n",
       "      <td>S003</td>\n",
       "      <td>1</td>\n",
       "      <td>0.10</td>\n",
       "      <td>Bank Transfer</td>\n",
       "    </tr>\n",
       "    <tr>\n",
       "      <th>1</th>\n",
       "      <td>T00002</td>\n",
       "      <td>2023-11-02</td>\n",
       "      <td>C171</td>\n",
       "      <td>P030</td>\n",
       "      <td>S004</td>\n",
       "      <td>3</td>\n",
       "      <td>0.15</td>\n",
       "      <td>Bank Transfer</td>\n",
       "    </tr>\n",
       "    <tr>\n",
       "      <th>2</th>\n",
       "      <td>T00003</td>\n",
       "      <td>2024-03-28</td>\n",
       "      <td>C142</td>\n",
       "      <td>P002</td>\n",
       "      <td>S002</td>\n",
       "      <td>2</td>\n",
       "      <td>0.15</td>\n",
       "      <td>Mobile Money</td>\n",
       "    </tr>\n",
       "    <tr>\n",
       "      <th>3</th>\n",
       "      <td>T00004</td>\n",
       "      <td>2024-06-15</td>\n",
       "      <td>C174</td>\n",
       "      <td>P050</td>\n",
       "      <td>S002</td>\n",
       "      <td>5</td>\n",
       "      <td>0.10</td>\n",
       "      <td>Mobile Money</td>\n",
       "    </tr>\n",
       "    <tr>\n",
       "      <th>4</th>\n",
       "      <td>T00005</td>\n",
       "      <td>2024-08-29</td>\n",
       "      <td>C141</td>\n",
       "      <td>P036</td>\n",
       "      <td>S001</td>\n",
       "      <td>3</td>\n",
       "      <td>0.10</td>\n",
       "      <td>Credit Card</td>\n",
       "    </tr>\n",
       "  </tbody>\n",
       "</table>\n",
       "</div>"
      ]
     },
     "execution_count": 31,
     "metadata": {},
     "output_type": "execute_result"
    }
   ],
   "execution_count": 31
  },
  {
   "metadata": {
    "ExecuteTime": {
     "end_time": "2025-10-17T15:49:57.686271Z",
     "start_time": "2025-10-17T15:49:57.678688Z"
    }
   },
   "cell_type": "code",
   "source": [
    "print(\"Valores nullos\")\n",
    "df_transactions.isnull().sum()"
   ],
   "id": "44c5545214516747",
   "outputs": [
    {
     "name": "stdout",
     "output_type": "stream",
     "text": [
      "Valores nullos\n"
     ]
    },
    {
     "data": {
      "text/plain": [
       "TransactionID    0\n",
       "Date             0\n",
       "CustomerID       0\n",
       "ProductID        0\n",
       "StoreID          0\n",
       "Quantity         0\n",
       "Discount         0\n",
       "PaymentMethod    0\n",
       "dtype: int64"
      ]
     },
     "execution_count": 32,
     "metadata": {},
     "output_type": "execute_result"
    }
   ],
   "execution_count": 32
  },
  {
   "metadata": {},
   "cell_type": "markdown",
   "source": "#### Al no tener valores nulos procedemos a separar cada pd en un csv para reutilizar en otro notebook",
   "id": "189b3e22bbc36906"
  },
  {
   "metadata": {
    "ExecuteTime": {
     "end_time": "2025-10-17T15:56:05.389060Z",
     "start_time": "2025-10-17T15:56:04.497099Z"
    }
   },
   "cell_type": "code",
   "source": [
    "for sheet_name in excel_file.sheet_names:\n",
    "    df = pd.read_excel(excel_file, sheet_name=sheet_name)\n",
    "    csv_filename = f'../data/{sheet_name}.csv'\n",
    "    df.to_csv(csv_filename, index=False)\n",
    "    print(f\"✅ Exportado: {sheet_name} → {csv_filename}\")\n",
    "\n",
    "print(\"\\n Todas las hojas han sido exportadas a CSV!\")"
   ],
   "id": "188c9d018b817983",
   "outputs": [
    {
     "name": "stdout",
     "output_type": "stream",
     "text": [
      "✅ Exportado: Customers → ../data/Customers.csv\n",
      "✅ Exportado: Products → ../data/Products.csv\n",
      "✅ Exportado: Stores → ../data/Stores.csv\n",
      "✅ Exportado: Transactions → ../data/Transactions.csv\n",
      "\n",
      " Todas las hojas han sido exportadas a CSV!\n"
     ]
    }
   ],
   "execution_count": 35
  }
 ],
 "metadata": {
  "kernelspec": {
   "display_name": "Python 3",
   "language": "python",
   "name": "python3"
  },
  "language_info": {
   "codemirror_mode": {
    "name": "ipython",
    "version": 2
   },
   "file_extension": ".py",
   "mimetype": "text/x-python",
   "name": "python",
   "nbconvert_exporter": "python",
   "pygments_lexer": "ipython2",
   "version": "2.7.6"
  }
 },
 "nbformat": 4,
 "nbformat_minor": 5
}
